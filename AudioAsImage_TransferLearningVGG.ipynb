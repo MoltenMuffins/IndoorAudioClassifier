{
  "nbformat": 4,
  "nbformat_minor": 0,
  "metadata": {
    "colab": {
      "name": "AudioAsImage_TransferLearningVGG.ipynb",
      "version": "0.3.2",
      "provenance": [],
      "collapsed_sections": [],
      "toc_visible": true,
      "include_colab_link": true
    },
    "kernelspec": {
      "name": "python3",
      "display_name": "Python 3"
    },
    "accelerator": "GPU"
  },
  "cells": [
    {
      "cell_type": "markdown",
      "metadata": {
        "id": "view-in-github",
        "colab_type": "text"
      },
      "source": [
        "<a href=\"https://colab.research.google.com/github/MoltenMuffins/IndoorAudioClassifier/blob/master/AudioAsImage_TransferLearningVGG.ipynb\" target=\"_parent\"><img src=\"https://colab.research.google.com/assets/colab-badge.svg\" alt=\"Open In Colab\"/></a>"
      ]
    },
    {
      "metadata": {
        "id": "gHAnY5wTTHnH",
        "colab_type": "text"
      },
      "cell_type": "markdown",
      "source": [
        "\n",
        "\n",
        "Shallow layers trained on self created database of sounds from freesound\n",
        "\n",
        "Classes: Speech, Music, Water, Door Sounds, Car horn, Glass Breaking"
      ]
    },
    {
      "metadata": {
        "id": "al4pm2TdALkL",
        "colab_type": "text"
      },
      "cell_type": "markdown",
      "source": [
        "## 0. Boilerplate Code"
      ]
    },
    {
      "metadata": {
        "id": "MedW0Pm5aLQu",
        "colab_type": "code",
        "outputId": "e3a4c41e-1a14-4199-82f3-1c2a3c48b5e4",
        "colab": {
          "base_uri": "https://localhost:8080/",
          "height": 34
        }
      },
      "cell_type": "code",
      "source": [
        "#test for gpu\n",
        "import tensorflow as tf\n",
        "device_name = tf.test.gpu_device_name()\n",
        "if device_name != '/device:GPU:0':\n",
        "  raise SystemError('GPU device not found')\n",
        "print('Found GPU at: {}'.format(device_name))"
      ],
      "execution_count": 0,
      "outputs": [
        {
          "output_type": "stream",
          "text": [
            "Found GPU at: /device:GPU:0\n"
          ],
          "name": "stdout"
        }
      ]
    },
    {
      "metadata": {
        "id": "X5HOmbBTALEt",
        "colab_type": "code",
        "outputId": "e487cbfd-a8f0-4a5c-d619-ee612e98a3ae",
        "colab": {
          "base_uri": "https://localhost:8080/",
          "height": 34
        }
      },
      "cell_type": "code",
      "source": [
        "#imports here\n",
        "import os\n",
        "import librosa\n",
        "from tensorflow.keras.models import Model,load_model,Sequential\n",
        "from tensorflow.keras.applications import VGG16\n",
        "from tensorflow.keras.applications.inception_v3 import InceptionV3\n",
        "from tensorflow.keras.layers import *\n",
        "from tensorflow.keras import backend as K\n",
        "\n",
        "import tensorflow as tf\n",
        "\n",
        "tf.VERSION"
      ],
      "execution_count": 0,
      "outputs": [
        {
          "output_type": "execute_result",
          "data": {
            "text/plain": [
              "'1.12.0'"
            ]
          },
          "metadata": {
            "tags": []
          },
          "execution_count": 2
        }
      ]
    },
    {
      "metadata": {
        "id": "6DOkTa9JAQLE",
        "colab_type": "text"
      },
      "cell_type": "markdown",
      "source": [
        "## 1. Download Dataset\n",
        "\n",
        "We use a small labeled dataset generated via the freesound api and passed through an audio tokeniser to shorten exceedingly long sound files.\n",
        "\n",
        "It has the following file structure: `Dataset/Train/{CLASS_LABEL}/{FILENAME}.jpg`"
      ]
    },
    {
      "metadata": {
        "id": "dHuoM7-QSoGQ",
        "colab_type": "code",
        "colab": {}
      },
      "cell_type": "code",
      "source": [
        "#Download Dataset from dropbox\n",
        "!wget -qq https://www.dropbox.com/s/rv7xzjyvae0nabt/Data.zip"
      ],
      "execution_count": 0,
      "outputs": []
    },
    {
      "metadata": {
        "id": "hNKXSSraMH4z",
        "colab_type": "code",
        "outputId": "4c8d69d1-df50-47a0-ddb7-8dffaf76b655",
        "colab": {
          "base_uri": "https://localhost:8080/",
          "height": 34
        }
      },
      "cell_type": "code",
      "source": [
        "#Unzip and delete zip file\n",
        "!unzip -qq Data.zip\n",
        "!rm Data.zip\n",
        "!ls"
      ],
      "execution_count": 0,
      "outputs": [
        {
          "output_type": "stream",
          "text": [
            "Data  __MACOSX\tsample_data\n"
          ],
          "name": "stdout"
        }
      ]
    },
    {
      "metadata": {
        "id": "Cm5uJci_Ard_",
        "colab_type": "text"
      },
      "cell_type": "markdown",
      "source": [
        "## 2. Prepare Dataset for Model\n",
        "\n",
        "We use glob to get lists of the files in the directories and then convert them into dataframes and add in class numbers.\n",
        "\n",
        "We also then split them up so we have 10% for a testing set and the rest for training.\n",
        "\n",
        "Finally we randomly shuffle them up"
      ]
    },
    {
      "metadata": {
        "id": "z3FiJfO5OrQa",
        "colab_type": "code",
        "colab": {}
      },
      "cell_type": "code",
      "source": [
        "path = \"./Data/\"\n",
        "train_data_dir = \"./Data/Train/\""
      ],
      "execution_count": 0,
      "outputs": []
    },
    {
      "metadata": {
        "id": "ezkNj9j4Pye_",
        "colab_type": "code",
        "outputId": "924fc56e-2cd0-4900-86db-d51d3a2bc1ed",
        "colab": {
          "base_uri": "https://localhost:8080/",
          "height": 34
        }
      },
      "cell_type": "code",
      "source": [
        "import pandas as pd\n",
        "import glob\n",
        "\n",
        "filenames_n0 = glob.glob('./Data/Train/car horn/*.png')\n",
        "filenames_n1 = glob.glob('./Data/Train/door/*.png')\n",
        "filenames_n2 = glob.glob('./Data/Train/glass break/*.png')\n",
        "filenames_n3 = glob.glob('./Data/Train/music/*.png')\n",
        "filenames_n4 = glob.glob('./Data/Train/speech/*.png')\n",
        "filenames_n5 = glob.glob('./Data/Train/water/*.png')\n",
        "\n",
        "\n",
        "names = ['car horn', 'door', 'glass break', 'music', 'speech', 'water']\n",
        "\n",
        "len(filenames_n0)"
      ],
      "execution_count": 0,
      "outputs": [
        {
          "output_type": "execute_result",
          "data": {
            "text/plain": [
              "53"
            ]
          },
          "metadata": {
            "tags": []
          },
          "execution_count": 6
        }
      ]
    },
    {
      "metadata": {
        "id": "BFKrmMDxQMlo",
        "colab_type": "code",
        "colab": {}
      },
      "cell_type": "code",
      "source": [
        "# Make a dataframe based on the filenames\n",
        "df = pd.DataFrame(filenames_n0, columns = [\"filename\"])\n",
        "df2 = pd.DataFrame(filenames_n1, columns = [\"filename\"])\n",
        "df3 = pd.DataFrame(filenames_n2, columns = [\"filename\"])\n",
        "df4 = pd.DataFrame(filenames_n3, columns = [\"filename\"])\n",
        "df5 = pd.DataFrame(filenames_n4, columns = [\"filename\"])\n",
        "df6 = pd.DataFrame(filenames_n5, columns = [\"filename\"])\n",
        "\n",
        "\n",
        "# Add Class columns \n",
        "df['class'] = pd.Series([0 for x in range(len(df.index))], index=df.index)\n",
        "df2['class'] = pd.Series([1 for x in range(len(df2.index))], index=df2.index)\n",
        "df3['class'] = pd.Series([2 for x in range(len(df3.index))], index=df3.index)\n",
        "df4['class'] = pd.Series([3 for x in range(len(df4.index))], index=df4.index)\n",
        "df5['class'] = pd.Series([4 for x in range(len(df5.index))], index=df5.index)\n",
        "df6['class'] = pd.Series([5 for x in range(len(df6.index))], index=df6.index)\n",
        "\n",
        "\n",
        "# Split into train and validation sets\n",
        "train_set_percentage = .9\n",
        "\n",
        "#1\n",
        "train_df = df[:int(len(df)*train_set_percentage)]\n",
        "val_df = df[int(len(df)*train_set_percentage):]\n",
        "\n",
        "#2\n",
        "train_df2 = df2[:int(len(df2)*train_set_percentage)]\n",
        "val_df2 = df2[int(len(df2)*train_set_percentage):]\n",
        "\n",
        "#3\n",
        "train_df3 = df3[:int(len(df3)*train_set_percentage)]\n",
        "val_df3 = df3[int(len(df3)*train_set_percentage):]\n",
        "\n",
        "#4\n",
        "train_df4 = df4[:int(len(df4)*train_set_percentage)]\n",
        "val_df4 = df4[int(len(df4)*train_set_percentage):]\n",
        "\n",
        "#5\n",
        "train_df5 = df5[:int(len(df5)*train_set_percentage)]\n",
        "val_df5 = df5[int(len(df5)*train_set_percentage):]\n",
        "\n",
        "#6\n",
        "train_df6 = df6[:int(len(df6)*train_set_percentage)]\n",
        "val_df6 = df6[int(len(df6)*train_set_percentage):]\n",
        "\n",
        "df_new_train = pd.concat([train_df, train_df2, train_df3, train_df4, train_df5, train_df6])\n",
        "df_new_val = pd.concat([val_df, val_df2, val_df3, val_df4, val_df5, val_df6])"
      ],
      "execution_count": 0,
      "outputs": []
    },
    {
      "metadata": {
        "id": "0Xr6G32PS2R-",
        "colab_type": "code",
        "outputId": "ca9e5897-4ff6-4c39-b027-74bb15413215",
        "colab": {
          "base_uri": "https://localhost:8080/",
          "height": 393
        }
      },
      "cell_type": "code",
      "source": [
        "# shuffle dataframes\n",
        "df = df_new_train.sample(frac=1).reset_index(drop=True)\n",
        "df_val = df_new_val.sample(frac=1).reset_index(drop=True)\n",
        "\n",
        "print('number of train files:', len(df))\n",
        "print('number of val files:', len(df_val))\n",
        "df.head(10)"
      ],
      "execution_count": 0,
      "outputs": [
        {
          "output_type": "stream",
          "text": [
            "number of train files: 911\n",
            "number of val files: 104\n"
          ],
          "name": "stdout"
        },
        {
          "output_type": "execute_result",
          "data": {
            "text/html": [
              "<div>\n",
              "<style scoped>\n",
              "    .dataframe tbody tr th:only-of-type {\n",
              "        vertical-align: middle;\n",
              "    }\n",
              "\n",
              "    .dataframe tbody tr th {\n",
              "        vertical-align: top;\n",
              "    }\n",
              "\n",
              "    .dataframe thead th {\n",
              "        text-align: right;\n",
              "    }\n",
              "</style>\n",
              "<table border=\"1\" class=\"dataframe\">\n",
              "  <thead>\n",
              "    <tr style=\"text-align: right;\">\n",
              "      <th></th>\n",
              "      <th>filename</th>\n",
              "      <th>class</th>\n",
              "    </tr>\n",
              "  </thead>\n",
              "  <tbody>\n",
              "    <tr>\n",
              "      <th>0</th>\n",
              "      <td>./Data/Train/music/Touch Down Music EDM_clip0.png</td>\n",
              "      <td>3</td>\n",
              "    </tr>\n",
              "    <tr>\n",
              "      <th>1</th>\n",
              "      <td>./Data/Train/glass break/Casse03.png</td>\n",
              "      <td>2</td>\n",
              "    </tr>\n",
              "    <tr>\n",
              "      <th>2</th>\n",
              "      <td>./Data/Train/music/Ambient Piano Music #3_clip...</td>\n",
              "      <td>3</td>\n",
              "    </tr>\n",
              "    <tr>\n",
              "      <th>3</th>\n",
              "      <td>./Data/Train/water/Sink Drumming and Water_cli...</td>\n",
              "      <td>5</td>\n",
              "    </tr>\n",
              "    <tr>\n",
              "      <th>4</th>\n",
              "      <td>./Data/Train/speech/\"Tengo hambre\".png</td>\n",
              "      <td>4</td>\n",
              "    </tr>\n",
              "    <tr>\n",
              "      <th>5</th>\n",
              "      <td>./Data/Train/glass break/Glass Break 1_clip0.png</td>\n",
              "      <td>2</td>\n",
              "    </tr>\n",
              "    <tr>\n",
              "      <th>6</th>\n",
              "      <td>./Data/Train/speech/cello-phrase_stftMorph1_cl...</td>\n",
              "      <td>4</td>\n",
              "    </tr>\n",
              "    <tr>\n",
              "      <th>7</th>\n",
              "      <td>./Data/Train/water/washing-machine_clip3.png</td>\n",
              "      <td>5</td>\n",
              "    </tr>\n",
              "    <tr>\n",
              "      <th>8</th>\n",
              "      <td>./Data/Train/speech/pod_bay_doors_test1.png</td>\n",
              "      <td>4</td>\n",
              "    </tr>\n",
              "    <tr>\n",
              "      <th>9</th>\n",
              "      <td>./Data/Train/speech/South Jersey Control-Radio...</td>\n",
              "      <td>4</td>\n",
              "    </tr>\n",
              "  </tbody>\n",
              "</table>\n",
              "</div>"
            ],
            "text/plain": [
              "                                            filename  class\n",
              "0  ./Data/Train/music/Touch Down Music EDM_clip0.png      3\n",
              "1               ./Data/Train/glass break/Casse03.png      2\n",
              "2  ./Data/Train/music/Ambient Piano Music #3_clip...      3\n",
              "3  ./Data/Train/water/Sink Drumming and Water_cli...      5\n",
              "4             ./Data/Train/speech/\"Tengo hambre\".png      4\n",
              "5   ./Data/Train/glass break/Glass Break 1_clip0.png      2\n",
              "6  ./Data/Train/speech/cello-phrase_stftMorph1_cl...      4\n",
              "7       ./Data/Train/water/washing-machine_clip3.png      5\n",
              "8        ./Data/Train/speech/pod_bay_doors_test1.png      4\n",
              "9  ./Data/Train/speech/South Jersey Control-Radio...      4"
            ]
          },
          "metadata": {
            "tags": []
          },
          "execution_count": 8
        }
      ]
    },
    {
      "metadata": {
        "id": "mwEGoSWqXb1G",
        "colab_type": "code",
        "outputId": "cbf7fc29-5aba-4401-98e9-c7e63cb15229",
        "colab": {
          "base_uri": "https://localhost:8080/",
          "height": 34
        }
      },
      "cell_type": "code",
      "source": [
        "# convert the dataframe into 2 lists to use for filename and labels\n",
        "train_filenames_list = df[\"filename\"].tolist()\n",
        "train_labels_list = df[\"class\"].astype('int32').tolist()\n",
        "\n",
        "# convert the dataframe into 2 lists to use for filename and labels\n",
        "val_filenames_list = df_val[\"filename\"].tolist()\n",
        "val_labels_list = df_val[\"class\"].astype('int32').tolist()\n",
        "\n",
        "#number of classes\n",
        "num_classes = 6\n",
        "\n",
        "df.shape"
      ],
      "execution_count": 0,
      "outputs": [
        {
          "output_type": "execute_result",
          "data": {
            "text/plain": [
              "(911, 2)"
            ]
          },
          "metadata": {
            "tags": []
          },
          "execution_count": 9
        }
      ]
    },
    {
      "metadata": {
        "id": "gBzms4rAXskF",
        "colab_type": "code",
        "outputId": "ca70e5be-4d65-4010-ae60-df30260bc37b",
        "colab": {
          "base_uri": "https://localhost:8080/",
          "height": 102
        }
      },
      "cell_type": "code",
      "source": [
        "train_filenames_list[:5]"
      ],
      "execution_count": 0,
      "outputs": [
        {
          "output_type": "execute_result",
          "data": {
            "text/plain": [
              "['./Data/Train/music/Touch Down Music EDM_clip0.png',\n",
              " './Data/Train/glass break/Casse03.png',\n",
              " './Data/Train/music/Ambient Piano Music #3_clip0.png',\n",
              " './Data/Train/water/Sink Drumming and Water_clip0.png',\n",
              " './Data/Train/speech/\"Tengo hambre\".png']"
            ]
          },
          "metadata": {
            "tags": []
          },
          "execution_count": 10
        }
      ]
    },
    {
      "metadata": {
        "id": "S7zf1-KobyL-",
        "colab_type": "text"
      },
      "cell_type": "markdown",
      "source": [
        "## 3. VGG16"
      ]
    },
    {
      "metadata": {
        "id": "fViP0ZEbAeRT",
        "colab_type": "text"
      },
      "cell_type": "markdown",
      "source": [
        "### 3.1 Create Data Pipeline for VGG16"
      ]
    },
    {
      "metadata": {
        "id": "h2X6htO6c7dD",
        "colab_type": "code",
        "colab": {}
      },
      "cell_type": "code",
      "source": [
        "# Reads an image from a file, decodes it into a tensor, and resizes it\n",
        "# to a fixed shape.\n",
        "img_rows, img_cols = 224,224\n",
        "\n",
        "def _parse_function(filename, label):\n",
        "  image_string = tf.read_file(filename)\n",
        "  #Channels specified to be 3 to ensure images output as [224,224,3] at the end of this\n",
        "  image_decoded = tf.image.decode_jpeg(image_string, channels=3)\n",
        "  image_resized = tf.image.resize_images(image_decoded, [img_rows, img_cols])\n",
        "  label = tf.one_hot(label, num_classes)\n",
        "  return image_resized, label"
      ],
      "execution_count": 0,
      "outputs": []
    },
    {
      "metadata": {
        "id": "TLtA31kweB1T",
        "colab_type": "code",
        "colab": {}
      },
      "cell_type": "code",
      "source": [
        "# Create vector of filenames from list\n",
        "filenames = tf.constant(train_filenames_list)\n",
        "\n",
        "# Create vector of labels\n",
        "labels = tf.constant(train_labels_list)\n",
        "\n",
        "# Same as above but for validation set\n",
        "val_filenames = tf.constant(val_filenames_list)\n",
        "val_labels = tf.constant(val_labels_list)"
      ],
      "execution_count": 0,
      "outputs": []
    },
    {
      "metadata": {
        "id": "ck-ltzcABHlG",
        "colab_type": "text"
      },
      "cell_type": "markdown",
      "source": [
        "### 3.2 Asemble Data Pipeline using tf.data for VGG16"
      ]
    },
    {
      "metadata": {
        "id": "bc6Mwp1lFqen",
        "colab_type": "code",
        "colab": {}
      },
      "cell_type": "code",
      "source": [
        "train_dataset = tf.data.Dataset.from_tensor_slices((filenames, labels))\n",
        "train_dataset = train_dataset.map(_parse_function)\n",
        "train_dataset = train_dataset.repeat()\n",
        "train_dataset = train_dataset.batch(32)\n",
        "\n",
        "valid_dataset = tf.data.Dataset.from_tensor_slices((val_filenames, val_labels))\n",
        "valid_dataset = valid_dataset.map(_parse_function)\n",
        "valid_dataset = valid_dataset.repeat()\n",
        "valid_dataset = valid_dataset.batch(32)"
      ],
      "execution_count": 0,
      "outputs": []
    },
    {
      "metadata": {
        "id": "bOgtTO8yWSwg",
        "colab_type": "code",
        "outputId": "a777aa67-e1fd-4cc4-9462-4ad0dba48d64",
        "colab": {
          "base_uri": "https://localhost:8080/",
          "height": 836
        }
      },
      "cell_type": "code",
      "source": [
        "# create the base pre-trained model\n",
        "base_model = VGG16(weights='imagenet', include_top=False, input_shape=(224, 224, 3))\n",
        "base_model.summary()"
      ],
      "execution_count": 0,
      "outputs": [
        {
          "output_type": "stream",
          "text": [
            "Downloading data from https://github.com/fchollet/deep-learning-models/releases/download/v0.1/vgg16_weights_tf_dim_ordering_tf_kernels_notop.h5\n",
            "58892288/58889256 [==============================] - 2s 0us/step\n",
            "_________________________________________________________________\n",
            "Layer (type)                 Output Shape              Param #   \n",
            "=================================================================\n",
            "input_1 (InputLayer)         (None, 224, 224, 3)       0         \n",
            "_________________________________________________________________\n",
            "block1_conv1 (Conv2D)        (None, 224, 224, 64)      1792      \n",
            "_________________________________________________________________\n",
            "block1_conv2 (Conv2D)        (None, 224, 224, 64)      36928     \n",
            "_________________________________________________________________\n",
            "block1_pool (MaxPooling2D)   (None, 112, 112, 64)      0         \n",
            "_________________________________________________________________\n",
            "block2_conv1 (Conv2D)        (None, 112, 112, 128)     73856     \n",
            "_________________________________________________________________\n",
            "block2_conv2 (Conv2D)        (None, 112, 112, 128)     147584    \n",
            "_________________________________________________________________\n",
            "block2_pool (MaxPooling2D)   (None, 56, 56, 128)       0         \n",
            "_________________________________________________________________\n",
            "block3_conv1 (Conv2D)        (None, 56, 56, 256)       295168    \n",
            "_________________________________________________________________\n",
            "block3_conv2 (Conv2D)        (None, 56, 56, 256)       590080    \n",
            "_________________________________________________________________\n",
            "block3_conv3 (Conv2D)        (None, 56, 56, 256)       590080    \n",
            "_________________________________________________________________\n",
            "block3_pool (MaxPooling2D)   (None, 28, 28, 256)       0         \n",
            "_________________________________________________________________\n",
            "block4_conv1 (Conv2D)        (None, 28, 28, 512)       1180160   \n",
            "_________________________________________________________________\n",
            "block4_conv2 (Conv2D)        (None, 28, 28, 512)       2359808   \n",
            "_________________________________________________________________\n",
            "block4_conv3 (Conv2D)        (None, 28, 28, 512)       2359808   \n",
            "_________________________________________________________________\n",
            "block4_pool (MaxPooling2D)   (None, 14, 14, 512)       0         \n",
            "_________________________________________________________________\n",
            "block5_conv1 (Conv2D)        (None, 14, 14, 512)       2359808   \n",
            "_________________________________________________________________\n",
            "block5_conv2 (Conv2D)        (None, 14, 14, 512)       2359808   \n",
            "_________________________________________________________________\n",
            "block5_conv3 (Conv2D)        (None, 14, 14, 512)       2359808   \n",
            "_________________________________________________________________\n",
            "block5_pool (MaxPooling2D)   (None, 7, 7, 512)         0         \n",
            "=================================================================\n",
            "Total params: 14,714,688\n",
            "Trainable params: 14,714,688\n",
            "Non-trainable params: 0\n",
            "_________________________________________________________________\n"
          ],
          "name": "stdout"
        }
      ]
    },
    {
      "metadata": {
        "id": "S50RD4hHWWZ2",
        "colab_type": "code",
        "colab": {}
      },
      "cell_type": "code",
      "source": [
        "# add a global spatial average pooling layer\n",
        "x = base_model.output\n",
        "\n",
        "x = Flatten()(x)\n",
        "\n",
        "# let's add a fully-connected layer\n",
        "x = Dense(512, activation='relu')(x)\n",
        "\n",
        "# and a logits layer -- let's say we have 6 classes\n",
        "predictions = Dense(6, activation='softmax')(x)"
      ],
      "execution_count": 0,
      "outputs": []
    },
    {
      "metadata": {
        "id": "p3rWS88YWZ5o",
        "colab_type": "code",
        "colab": {}
      },
      "cell_type": "code",
      "source": [
        "# this is the model we will train\n",
        "model = Model(inputs=base_model.input, outputs=predictions)"
      ],
      "execution_count": 0,
      "outputs": []
    },
    {
      "metadata": {
        "id": "ZprrxTRPWbMN",
        "colab_type": "code",
        "colab": {}
      },
      "cell_type": "code",
      "source": [
        "# first: train only the top layers (which were randomly initialized)\n",
        "# i.e. freeze all convolutional VGG16 layers\n",
        "for layer in base_model.layers:\n",
        "    layer.trainable = False\n",
        "    \n",
        "#for layer in model.layers:\n",
        "#    print(layer.name)\n",
        "#    print(layer.trainable)"
      ],
      "execution_count": 0,
      "outputs": []
    },
    {
      "metadata": {
        "id": "ll5eoQwkWdhC",
        "colab_type": "code",
        "outputId": "5fb77697-7d9f-4520-8b8b-f9055a9f7daa",
        "colab": {
          "base_uri": "https://localhost:8080/",
          "height": 884
        }
      },
      "cell_type": "code",
      "source": [
        "#optional\n",
        "model.summary()"
      ],
      "execution_count": 0,
      "outputs": [
        {
          "output_type": "stream",
          "text": [
            "_________________________________________________________________\n",
            "Layer (type)                 Output Shape              Param #   \n",
            "=================================================================\n",
            "input_1 (InputLayer)         (None, 224, 224, 3)       0         \n",
            "_________________________________________________________________\n",
            "block1_conv1 (Conv2D)        (None, 224, 224, 64)      1792      \n",
            "_________________________________________________________________\n",
            "block1_conv2 (Conv2D)        (None, 224, 224, 64)      36928     \n",
            "_________________________________________________________________\n",
            "block1_pool (MaxPooling2D)   (None, 112, 112, 64)      0         \n",
            "_________________________________________________________________\n",
            "block2_conv1 (Conv2D)        (None, 112, 112, 128)     73856     \n",
            "_________________________________________________________________\n",
            "block2_conv2 (Conv2D)        (None, 112, 112, 128)     147584    \n",
            "_________________________________________________________________\n",
            "block2_pool (MaxPooling2D)   (None, 56, 56, 128)       0         \n",
            "_________________________________________________________________\n",
            "block3_conv1 (Conv2D)        (None, 56, 56, 256)       295168    \n",
            "_________________________________________________________________\n",
            "block3_conv2 (Conv2D)        (None, 56, 56, 256)       590080    \n",
            "_________________________________________________________________\n",
            "block3_conv3 (Conv2D)        (None, 56, 56, 256)       590080    \n",
            "_________________________________________________________________\n",
            "block3_pool (MaxPooling2D)   (None, 28, 28, 256)       0         \n",
            "_________________________________________________________________\n",
            "block4_conv1 (Conv2D)        (None, 28, 28, 512)       1180160   \n",
            "_________________________________________________________________\n",
            "block4_conv2 (Conv2D)        (None, 28, 28, 512)       2359808   \n",
            "_________________________________________________________________\n",
            "block4_conv3 (Conv2D)        (None, 28, 28, 512)       2359808   \n",
            "_________________________________________________________________\n",
            "block4_pool (MaxPooling2D)   (None, 14, 14, 512)       0         \n",
            "_________________________________________________________________\n",
            "block5_conv1 (Conv2D)        (None, 14, 14, 512)       2359808   \n",
            "_________________________________________________________________\n",
            "block5_conv2 (Conv2D)        (None, 14, 14, 512)       2359808   \n",
            "_________________________________________________________________\n",
            "block5_conv3 (Conv2D)        (None, 14, 14, 512)       2359808   \n",
            "_________________________________________________________________\n",
            "block5_pool (MaxPooling2D)   (None, 7, 7, 512)         0         \n",
            "_________________________________________________________________\n",
            "flatten (Flatten)            (None, 25088)             0         \n",
            "_________________________________________________________________\n",
            "dense (Dense)                (None, 512)               12845568  \n",
            "_________________________________________________________________\n",
            "dense_1 (Dense)              (None, 6)                 3078      \n",
            "=================================================================\n",
            "Total params: 27,563,334\n",
            "Trainable params: 12,848,646\n",
            "Non-trainable params: 14,714,688\n",
            "_________________________________________________________________\n"
          ],
          "name": "stdout"
        }
      ]
    },
    {
      "metadata": {
        "id": "3h5gZCzH_zdy",
        "colab_type": "code",
        "colab": {}
      },
      "cell_type": "code",
      "source": [
        "opt = tf.train.AdamOptimizer(learning_rate = 0.00001)\n",
        "\n",
        "# compile the model (should be done *after* setting layers to non-trainable)\n",
        "model.compile(optimizer=opt, loss='categorical_crossentropy',metrics=['accuracy'])"
      ],
      "execution_count": 0,
      "outputs": []
    },
    {
      "metadata": {
        "id": "ledAEOvsFrJu",
        "colab_type": "text"
      },
      "cell_type": "markdown",
      "source": [
        "### 3.3 Transfer Learning on VGG16"
      ]
    },
    {
      "metadata": {
        "id": "pD7vN-nf_zd0",
        "colab_type": "code",
        "colab": {}
      },
      "cell_type": "code",
      "source": [
        "#60 20 20 rule\n",
        "train_steps = 270\n",
        "val_steps = 90\n",
        "epochs = 10"
      ],
      "execution_count": 0,
      "outputs": []
    },
    {
      "metadata": {
        "id": "dHnxnl2AY6iI",
        "colab_type": "code",
        "outputId": "607affea-8e63-4495-840a-5637537c2376",
        "colab": {
          "base_uri": "https://localhost:8080/",
          "height": 51
        }
      },
      "cell_type": "code",
      "source": [
        "print(train_dataset)\n",
        "print(valid_dataset)"
      ],
      "execution_count": 0,
      "outputs": [
        {
          "output_type": "stream",
          "text": [
            "<BatchDataset shapes: ((?, 224, 224, 3), (?, 6)), types: (tf.float32, tf.float32)>\n",
            "<BatchDataset shapes: ((?, 224, 224, 3), (?, 6)), types: (tf.float32, tf.float32)>\n"
          ],
          "name": "stdout"
        }
      ]
    },
    {
      "metadata": {
        "id": "DGGH-czf_zd2",
        "colab_type": "code",
        "outputId": "da8732cc-0d25-4c56-9a07-0e135aa1415e",
        "colab": {
          "base_uri": "https://localhost:8080/",
          "height": 377
        }
      },
      "cell_type": "code",
      "source": [
        "# # # Train the model with validation \n",
        "history = model.fit( train_dataset, steps_per_epoch = train_steps,\n",
        "                   epochs = epochs,\n",
        "                   validation_data = valid_dataset,\n",
        "                   validation_steps = val_steps)"
      ],
      "execution_count": 0,
      "outputs": [
        {
          "output_type": "stream",
          "text": [
            "Epoch 1/10\n",
            "270/270 [==============================] - 119s 441ms/step - loss: 11.9319 - acc: 0.2597 - val_loss: 12.0854 - val_acc: 0.2503\n",
            "Epoch 2/10\n",
            "270/270 [==============================] - 119s 439ms/step - loss: 11.9169 - acc: 0.2606 - val_loss: 12.0965 - val_acc: 0.2497\n",
            "Epoch 3/10\n",
            "270/270 [==============================] - 119s 440ms/step - loss: 11.9281 - acc: 0.2600 - val_loss: 12.0854 - val_acc: 0.2503\n",
            "Epoch 4/10\n",
            "270/270 [==============================] - 119s 440ms/step - loss: 11.9169 - acc: 0.2606 - val_loss: 12.0910 - val_acc: 0.2500\n",
            "Epoch 5/10\n",
            "270/270 [==============================] - 119s 441ms/step - loss: 11.9337 - acc: 0.2596 - val_loss: 12.1021 - val_acc: 0.2493\n",
            "Epoch 6/10\n",
            "270/270 [==============================] - 119s 441ms/step - loss: 11.9076 - acc: 0.2612 - val_loss: 12.0742 - val_acc: 0.2510\n",
            "Epoch 7/10\n",
            "270/270 [==============================] - 119s 440ms/step - loss: 11.9431 - acc: 0.2590 - val_loss: 12.1022 - val_acc: 0.2493\n",
            "Epoch 8/10\n",
            "270/270 [==============================] - 119s 441ms/step - loss: 11.9225 - acc: 0.2603 - val_loss: 12.1077 - val_acc: 0.2490\n",
            "Epoch 9/10\n",
            "270/270 [==============================] - 119s 441ms/step - loss: 11.9225 - acc: 0.2603 - val_loss: 12.0742 - val_acc: 0.2510\n",
            "Epoch 10/10\n",
            "270/270 [==============================] - 119s 442ms/step - loss: 11.9225 - acc: 0.2603 - val_loss: 12.0854 - val_acc: 0.2503\n"
          ],
          "name": "stdout"
        }
      ]
    },
    {
      "metadata": {
        "id": "MNGsVdaDxYYw",
        "colab_type": "code",
        "cellView": "both",
        "colab": {}
      },
      "cell_type": "code",
      "source": [
        "#@title\n",
        "#epochs = 3\n",
        "\n",
        "# # # Train the model with validation \n",
        "#history = model.fit( train_dataset, steps_per_epoch = train_steps,\n",
        "#                   epochs = epochs,\n",
        "#                   validation_data = valid_dataset,\n",
        "#                   validation_steps = val_steps)"
      ],
      "execution_count": 0,
      "outputs": []
    },
    {
      "metadata": {
        "id": "mu0u3ouW_zd7",
        "colab_type": "code",
        "cellView": "both",
        "colab": {}
      },
      "cell_type": "code",
      "source": [
        "#@title\n",
        "#metrics = model.evaluate(valid_dataset,\n",
        "#                   steps = val_steps)\n",
        "#print(\"model accuracy:\",metrics[1])"
      ],
      "execution_count": 0,
      "outputs": []
    },
    {
      "metadata": {
        "id": "zu_t7fQn_zeB",
        "colab_type": "code",
        "cellView": "both",
        "colab": {}
      },
      "cell_type": "code",
      "source": [
        "#@title\n",
        "#image_check = 'content/Data/Train/glass break/01537 breaking glass 1.png'\n",
        "#\n",
        "#print(img_check)\n",
        "#img = image.load_img(img_path, target_size=(224, 224))\n",
        "#x = image.img_to_array(img)\n",
        "#x = np.expand_dims(x, axis=0)\n",
        "#x = preprocess_input(x)\n",
        "#print('Input image shape:', x.shape)\n",
        "#preds = model.predict(x)\n",
        "#print('Predicted:', preds)"
      ],
      "execution_count": 0,
      "outputs": []
    }
  ]
}